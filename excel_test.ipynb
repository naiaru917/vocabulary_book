{
 "cells": [
  {
   "cell_type": "code",
   "execution_count": 1,
   "id": "efaaba24-687c-4995-8c88-4a83137d6805",
   "metadata": {},
   "outputs": [],
   "source": [
    "#モジュールを取り込む\n",
    "import openpyxl\n",
    "#ファイルを指定する\n",
    "wb = openpyxl.load_workbook(r'C:\\Users\\tfust\\Documents\\excel_test.xlsx')\n",
    "#シートを指定する\n",
    "ws = wb.worksheets[1]  #一番最初のシートは0\n",
    "#列データをリスト化する\n",
    "listQ = [ x.value for x in ws['A'] ]  #B列(問題)\n",
    "listA = [ y.value for y in ws['B'] ]  #A列(回答)\n",
    "\n",
    "#リストの表示（確認用）\n",
    "#print(list1)\n",
    "#print(list2)"
   ]
  },
  {
   "cell_type": "raw",
   "id": "2f627a50-68da-45ee-b964-20c91b8fbdf8",
   "metadata": {},
   "source": [
    "cnt = 0  #問題数を数える\n",
    "score = 0  #正解数を数える\n",
    "\n",
    "for x in listQ:\n",
    "    cnt += 1\n",
    "    print(f\"第{cnt}問:\",x)\n",
    "    ans = input(\"答えを入力してください\")\n",
    "    if ans == listA[cnt - 1]:\n",
    "        print ('\\033[31m' +\"正解\"+ '\\033[0m')    #文字を赤色にする\n",
    "        score += 1\n",
    "    else:\n",
    "        print(\"不正解\" )\n",
    "        print(\"正解は\",'\\033[31m' + listA[cnt-1] + '\\033[0m')\n",
    "    print()\n",
    "\n",
    "#print(\"正答率:\",score,\"/\",cnt)"
   ]
  },
  {
   "cell_type": "code",
   "execution_count": 4,
   "id": "4585de47-917f-4629-8dbb-c6d3a33f5ffc",
   "metadata": {},
   "outputs": [
    {
     "name": "stdout",
     "output_type": "stream",
     "text": [
      "[13, 27, 25, 52, 15, 44, 8, 53, 18, 50]\n"
     ]
    }
   ],
   "source": [
    "import random\n",
    "\n",
    "#重複なしのランダムな数列\n",
    "def rand_ints_nodup(a, b, k):\n",
    "  ns = []\n",
    "  while len(ns) < k:\n",
    "    n = random.randint(a, b)\n",
    "    if not n in ns:\n",
    "      ns.append(n)\n",
    "  return ns\n",
    "\n",
    "L = len(listQ)   #リストの個数を求める\n",
    "listRnd = rand_ints_nodup(1, L, 10)   #1~Lからランダムで10個\n",
    "print(listRnd)"
   ]
  },
  {
   "cell_type": "code",
   "execution_count": 5,
   "id": "c5993f60-060e-4abf-8099-baf8f53cbe5a",
   "metadata": {},
   "outputs": [
    {
     "name": "stdout",
     "output_type": "stream",
     "text": [
      "第1問: 大脳のウェルニッケ野は運動性言語中枢で、発語に関連する。\n"
     ]
    },
    {
     "name": "stdin",
     "output_type": "stream",
     "text": [
      "答えを入力してください ✖\n"
     ]
    },
    {
     "name": "stdout",
     "output_type": "stream",
     "text": [
      "\u001b[31m正解\u001b[0m\n",
      "\n",
      "第2問: 多価不飽和脂肪酸において、メチル基炭素から数えて6番目のところに一つ目の不飽和結合があるものをメチル６という。\n"
     ]
    },
    {
     "name": "stdin",
     "output_type": "stream",
     "text": [
      "答えを入力してください ✖\n"
     ]
    },
    {
     "name": "stdout",
     "output_type": "stream",
     "text": [
      "\u001b[31m正解\u001b[0m\n",
      "\n",
      "第3問: 嫌気的代謝では、グルコース1分子から2分子のATPと2分子の酢酸が作られる。\n"
     ]
    },
    {
     "name": "stdin",
     "output_type": "stream",
     "text": [
      "答えを入力してください ✖\n"
     ]
    },
    {
     "name": "stdout",
     "output_type": "stream",
     "text": [
      "\u001b[31m正解\u001b[0m\n",
      "\n",
      "第4問: セカンドオピニオンとは、手術と放射線治療の併用などによる確実な処置のことである。\n"
     ]
    },
    {
     "name": "stdin",
     "output_type": "stream",
     "text": [
      "答えを入力してください ✖\n"
     ]
    },
    {
     "name": "stdout",
     "output_type": "stream",
     "text": [
      "\u001b[31m正解\u001b[0m\n",
      "\n",
      "第5問: 大脳皮質のブローカ野は「やる気の脳」と言われている。\n"
     ]
    },
    {
     "name": "stdin",
     "output_type": "stream",
     "text": [
      "答えを入力してください ✖\n"
     ]
    },
    {
     "name": "stdout",
     "output_type": "stream",
     "text": [
      "\u001b[31m正解\u001b[0m\n",
      "\n",
      "第6問: 日本を含めた国際的な高齢者の定義は65歳以上である。\n"
     ]
    },
    {
     "name": "stdin",
     "output_type": "stream",
     "text": [
      "答えを入力してください ◎\n"
     ]
    },
    {
     "name": "stdout",
     "output_type": "stream",
     "text": [
      "\u001b[31m正解\u001b[0m\n",
      "\n",
      "第7問: ニューロンとニューロンが接するところをホメオスタシスという。\n"
     ]
    },
    {
     "name": "stdin",
     "output_type": "stream",
     "text": [
      "答えを入力してください ✖\n"
     ]
    },
    {
     "name": "stdout",
     "output_type": "stream",
     "text": [
      "\u001b[31m正解\u001b[0m\n",
      "\n",
      "第8問: 医療倫理の４原則は、自主尊重、無危害、与益、正義である。\n"
     ]
    },
    {
     "name": "stdin",
     "output_type": "stream",
     "text": [
      "答えを入力してください ◎\n"
     ]
    },
    {
     "name": "stdout",
     "output_type": "stream",
     "text": [
      "\u001b[31m正解\u001b[0m\n",
      "\n",
      "第9問: レム睡眠は浅い眠りで、閉眼していても眼球が動き、夢を見ている状態である。\n"
     ]
    },
    {
     "name": "stdin",
     "output_type": "stream",
     "text": [
      "答えを入力してください ◎\n"
     ]
    },
    {
     "name": "stdout",
     "output_type": "stream",
     "text": [
      "\u001b[31m正解\u001b[0m\n",
      "\n",
      "第10問: サルコペニアとは加齢などに伴って生じた関節の変形のことである。\n"
     ]
    },
    {
     "name": "stdin",
     "output_type": "stream",
     "text": [
      "答えを入力してください ✖\n"
     ]
    },
    {
     "name": "stdout",
     "output_type": "stream",
     "text": [
      "\u001b[31m正解\u001b[0m\n",
      "\n",
      "正答率: 10 / 10\n"
     ]
    }
   ],
   "source": [
    "cnt = 0\n",
    "score = 0\n",
    "for x in listRnd:\n",
    "    cnt += 1\n",
    "    print(f\"第{cnt}問:\",listQ[x-1])\n",
    "    ans = input(\"答えを入力してください\")\n",
    "    if ans == listA[x-1]:\n",
    "        print ('\\033[31m' +\"正解\"+ '\\033[0m')    #文字を赤色にする\n",
    "        score += 1\n",
    "    else:\n",
    "        print(\"不正解\" )\n",
    "        print(\"正解は\",'\\033[31m' + listA[x-1] + '\\033[0m')\n",
    "    print()\n",
    "\n",
    "print(\"正答率:\",score,\"/\",cnt)"
   ]
  },
  {
   "cell_type": "code",
   "execution_count": null,
   "id": "a4ddc1fe-60d0-42b8-92ca-2bf46d624536",
   "metadata": {},
   "outputs": [],
   "source": []
  }
 ],
 "metadata": {
  "kernelspec": {
   "display_name": "Python 3 (ipykernel)",
   "language": "python",
   "name": "python3"
  },
  "language_info": {
   "codemirror_mode": {
    "name": "ipython",
    "version": 3
   },
   "file_extension": ".py",
   "mimetype": "text/x-python",
   "name": "python",
   "nbconvert_exporter": "python",
   "pygments_lexer": "ipython3",
   "version": "3.9.16"
  }
 },
 "nbformat": 4,
 "nbformat_minor": 5
}
